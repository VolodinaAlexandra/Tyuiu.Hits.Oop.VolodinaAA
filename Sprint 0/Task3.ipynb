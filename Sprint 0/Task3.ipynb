{
 "cells": [
  {
   "cell_type": "markdown",
   "metadata": {},
   "source": [
    "<h1 style=\"color:DodgerBlue\">Индивидуальный проект</h1>"
   ]
  },
  {
   "cell_type": "markdown",
   "metadata": {},
   "source": [
    "<h2 style=\"color:DodgerBlue\">Название проекта: КНИГИ</h2>\n",
    "\n",
    "----\n",
    "\n",
    "### 5 вариант\n"
   ]
  },
  {
   "cell_type": "markdown",
   "metadata": {},
   "source": [
    "<h2 style=\"color:DodgerBlue\">Описание проекта:</h2>\n",
    "\n",
    "----\n",
    "\n",
    "Создать базовый класс Book в C#, который будет представлять информацию о\n",
    "книгах. На основе этого класса разработать 2-3 производных класса,\n",
    "демонстрирующих принципы наследования и полиморфизма. В каждом из классов\n",
    "должны быть реализованы новые атрибуты и методы, а также переопределены\n",
    "некоторые методы базового класса для демонстрации полиморфизма.\n",
    "\n",
    "Требования к базовому классу Book:\n",
    "• Атрибуты: Название (Title), Автор (Author), Год издания (YearOfPublication).\n",
    "• Методы:\n",
    "o GetInfo(): метод для получения информации о книге в виде строки.\n",
    "o Read(): метод для вывода сообщения о чтении книги.\n",
    "o Borrow(): метод для вывода сообщения о выдаче книги на чтение.\n",
    "\n",
    "Требования к производным классам:\n",
    "1. Учебник (Textbook): Должен содержать дополнительные атрибуты, такие как\n",
    "Предмет (Subject). Метод Read() должен быть переопределен для\n",
    "добавления информации о предмете при чтении учебника.\n",
    "2. Художественная литература (Fiction): Должен содержать дополнительные\n",
    "атрибуты, такие как Жанр (Genre). Метод Borrow() должен быть\n",
    "переопределен для добавления информации о жанре при выдаче книги на\n",
    "чтение.\n",
    "3. Научная литература (ScientificLiterature) (если требуется третий класс):\n",
    "Должен содержать дополнительные атрибуты, такие как Область науки\n",
    "(FieldOfScience). Метод GetInfo() должен быть переопределен для включения\n",
    "информации об области науки в описании книги.\n"
   ]
  },
  {
   "cell_type": "markdown",
   "metadata": {},
   "source": [
    "<h2 style=\"color:DodgerBlue\">Реализация:</h2>\n",
    "\n",
    "----"
   ]
  },
  {
   "cell_type": "code",
   "execution_count": 2,
   "metadata": {
    "dotnet_interactive": {
     "language": "csharp"
    },
    "polyglot_notebook": {
     "kernelName": "csharp"
    }
   },
   "outputs": [
    {
     "name": "stdout",
     "output_type": "stream",
     "text": [
      "Эта книга называется - Грозовой перевал, её автор - Эмили Бронте, год её публикации - 1847.\n",
      "Книга читается\n",
      "Книга выдана на чтение\n",
      "Эта книга называется - ЕГЭ по математике 2023, её автор - Ященко, год её публикации - 2022.\n",
      "Этот учебник по предмету - Математика\n",
      "Книга выдана на чтение\n",
      "Эта книга называется - Рассказ служанки, её автор - Маргарет Этвуд, год её публикации - 1986.\n",
      "Книга читается\n",
      "Эта книга написана в жанре - Антиутопия\n",
      "Книга принадлежит области науки - Физика\n",
      "Книга читается\n",
      "Книга выдана на чтение\n",
      "В этом комиксе есть герой - Супермен\n"
     ]
    }
   ],
   "source": [
    "class Book\n",
    "{\n",
    "    private string title;\n",
    "    public string Title\n",
    "    {\n",
    "        get {return title;}\n",
    "        set {title = value;}\n",
    "    }\n",
    "\n",
    "    private string author;\n",
    "    public string Author\n",
    "    {\n",
    "        get {return author;}\n",
    "        set {author = value;}\n",
    "    }\n",
    "\n",
    "    private string yearofpublication;\n",
    "    public string YearOfPublication\n",
    "    {\n",
    "        get {return yearofpublication;}\n",
    "        set {yearofpublication = value;}\n",
    "    }\n",
    "\n",
    "    public virtual void GetInfo()\n",
    "    {\n",
    "        Console.WriteLine($\"Эта книга называется - {Title}, её автор - {Author}, год её публикации - {YearOfPublication}.\");\n",
    "    }\n",
    "    public virtual void Read()\n",
    "    {\n",
    "        Console.WriteLine(\"Книга читается\");\n",
    "    }\n",
    "    public virtual void Borrow()\n",
    "    {\n",
    "        Console.WriteLine(\"Книга выдана на чтение\");\n",
    "    }\n",
    "}\n",
    "class Textbook : Book\n",
    "{\n",
    "    private string subject;\n",
    "    public Textbook(string _subject)\n",
    "    {\n",
    "        subject = _subject;\n",
    "    }\n",
    "    public override void Read()\n",
    "    {\n",
    "        Console.WriteLine($\"Этот учебник по предмету - {subject}\");\n",
    "    }\n",
    "}\n",
    "class Fiction : Book\n",
    "{\n",
    "    private string genre;\n",
    "    public Fiction(string _genre)\n",
    "    {\n",
    "        genre = _genre;\n",
    "    } \n",
    "    public override void Borrow()\n",
    "    {\n",
    "        Console.WriteLine($\"Эта книга написана в жанре - {genre}\");\n",
    "    }\n",
    "}\n",
    "class ScientificLiterature : Book\n",
    "{\n",
    "    private string fieldofscience;\n",
    "    public ScientificLiterature(string _fieldofscience)\n",
    "    {\n",
    "        fieldofscience = _fieldofscience;\n",
    "    }\n",
    "    public override void GetInfo()\n",
    "    {\n",
    "        Console.WriteLine($\"Книга принадлежит области науки - {fieldofscience}\");\n",
    "    }\n",
    "}\n",
    "class Comics : Book\n",
    "{\n",
    "    private string hero;\n",
    "    public Comics(string _hero)\n",
    "    {\n",
    "        hero = _hero;\n",
    "    }\n",
    "\n",
    "    public override void Read()\n",
    "    {\n",
    "        Console.WriteLine($\"В этом комиксе есть герой - {hero}\");\n",
    "    }\n",
    "}\n",
    "\n",
    "Book myBook = new Book();\n",
    "Textbook myTextbook = new Textbook(\"Математика\");\n",
    "Fiction myFiction = new Fiction(\"Антиутопия\");\n",
    "ScientificLiterature myScientificLiterature = new ScientificLiterature(\"Физика\");\n",
    "Comics myComics = new Comics(\"Супермен\");\n",
    "\n",
    "myBook.Title = \"Грозовой перевал\";\n",
    "myBook.Author = \"Эмили Бронте\";\n",
    "myBook.YearOfPublication = \"1847\";\n",
    "myBook.GetInfo();\n",
    "myBook.Read();\n",
    "myBook.Borrow();\n",
    "\n",
    "myTextbook.Title = \"ЕГЭ по математике 2023\";\n",
    "myTextbook.Author = \"Ященко\";\n",
    "myTextbook.YearOfPublication = \"2022\";\n",
    "myTextbook.GetInfo();\n",
    "myTextbook.Read();\n",
    "myTextbook.Borrow();\n",
    "\n",
    "myFiction.Title = \"Рассказ служанки\";\n",
    "myFiction.Author = \"Маргарет Этвуд\";\n",
    "myFiction.YearOfPublication = \"1986\";\n",
    "myFiction.GetInfo();\n",
    "myFiction.Read();\n",
    "myFiction.Borrow();\n",
    "\n",
    "myScientificLiterature.Title = \"Теория всего\";\n",
    "myScientificLiterature.Author = \"Стивен Хокинг\";\n",
    "myScientificLiterature.YearOfPublication = \"2002\";\n",
    "myScientificLiterature.GetInfo();\n",
    "myScientificLiterature.Read();\n",
    "myScientificLiterature.Borrow();\n",
    "\n",
    "myComics.Read();\n"
   ]
  }
 ],
 "metadata": {
  "kernelspec": {
   "display_name": ".NET (C#)",
   "language": "C#",
   "name": ".net-csharp"
  },
  "polyglot_notebook": {
   "kernelInfo": {
    "defaultKernelName": "csharp",
    "items": [
     {
      "aliases": [],
      "languageName": "csharp",
      "name": "csharp"
     }
    ]
   }
  }
 },
 "nbformat": 4,
 "nbformat_minor": 2
}
