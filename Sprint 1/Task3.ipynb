{
 "cells": [
  {
   "cell_type": "markdown",
   "metadata": {},
   "source": [
    "<h1 style=\"color:DodgerBlue\">Индивидуальный проект</h1>"
   ]
  },
  {
   "cell_type": "markdown",
   "metadata": {},
   "source": [
    "<h2 style=\"color:DodgerBlue\">Название проекта: КНИГИ</h2>\n",
    "\n",
    "----\n",
    "\n",
    "### 5 вариант\n",
    "\n"
   ]
  },
  {
   "cell_type": "markdown",
   "metadata": {},
   "source": [
    "<h2 style=\"color:DodgerBlue\">Описание проекта:</h2>\n",
    "\n",
    "----\n",
    "\n",
    "Создать базовый класс Book в C#, который будет представлять информацию о\n",
    "книгах. На основе этого класса разработать 2-3 производных класса,\n",
    "демонстрирующих принципы наследования и полиморфизма. В каждом из классов\n",
    "должны быть реализованы новые атрибуты и методы, а также переопределены\n",
    "некоторые методы базового класса для демонстрации полиморфизма.\n",
    "\n",
    "Требования к базовому классу Book:\n",
    "• Атрибуты: Название (Title), Автор (Author), Год издания (YearOfPublication).\n",
    "• Методы:\n",
    "o GetInfo(): метод для получения информации о книге в виде строки.\n",
    "o Read(): метод для вывода сообщения о чтении книги.\n",
    "o Borrow(): метод для вывода сообщения о выдаче книги на чтение.\n",
    "\n",
    "Требования к производным классам:\n",
    "1. Учебник (Textbook): Должен содержать дополнительные атрибуты, такие как\n",
    "Предмет (Subject). Метод Read() должен быть переопределен для\n",
    "добавления информации о предмете при чтении учебника.\n",
    "2. Художественная литература (Fiction): Должен содержать дополнительные\n",
    "атрибуты, такие как Жанр (Genre). Метод Borrow() должен быть\n",
    "переопределен для добавления информации о жанре при выдаче книги на\n",
    "чтение.\n",
    "3. Научная литература (ScientificLiterature) (если требуется третий класс):\n",
    "Должен содержать дополнительные атрибуты, такие как Область науки\n",
    "(FieldOfScience). Метод GetInfo() должен быть переопределен для включения\n",
    "информации об области науки в описании книги.\n",
    "\n",
    "#### Дополнительное задание\n",
    "Добавьте к сущестующим классам конструктора классов с использованием гетторов и сетторов и реализуйте взаимодействие объектов между собой"
   ]
  },
  {
   "cell_type": "markdown",
   "metadata": {},
   "source": [
    "<h2 style=\"color:DodgerBlue\">Реализация:</h2>\n",
    "\n",
    "----"
   ]
  },
  {
   "cell_type": "code",
   "execution_count": 1,
   "metadata": {
    "dotnet_interactive": {
     "language": "csharp"
    },
    "polyglot_notebook": {
     "kernelName": "csharp"
    }
   },
   "outputs": [
    {
     "name": "stdout",
     "output_type": "stream",
     "text": [
      "Название книги - Гарри Поттер, автор книги - Джоан Роулинг, год публикации - 1999\n",
      "Книга Гарри Поттер еще не прочитана\n",
      "Книга Гарри Поттер взята на чтение\n",
      "\n",
      "\n",
      "Название книги - Математика 6 класс, автор книги - Ященко, год публикации - 2024\n",
      "Книга Математика 6 класс по предмету Математика\n",
      "Книга Математика 6 класс взята на чтение\n",
      "\n",
      "\n",
      "Название книги - Дракула, автор книги - Брэм Стокер, год публикации - 1897\n",
      "Книга Дракула еще не прочитана\n",
      "Книга Дракула в жанре Ужасы взята на чтение\n",
      "\n",
      "\n",
      "Название книги - Теория всего, автор книги - Стивен Хокинг, год публикации - 2002, область науки - Физика\n",
      "Книга Теория всего еще не прочитана\n",
      "Книга Теория всего взята на чтение\n"
     ]
    }
   ],
   "source": [
    "public class Book\n",
    "{\n",
    "    public string Title {get;set;}\n",
    "    public string Author {get; set;}\n",
    "    public int YearOfPublication {get;set;}\n",
    "    public bool isReading;\n",
    "    public bool isBorrow;\n",
    "\n",
    "    public Book(string _title, string _author, int _yearOfPublication, bool _isReading, bool _isBorrow)\n",
    "    {\n",
    "        this.Title = _title;\n",
    "        this.Author = _author;\n",
    "        this.YearOfPublication = _yearOfPublication;\n",
    "        this.isReading = false;\n",
    "        this.isBorrow = false;\n",
    "    }\n",
    "    public virtual void GetInfo()\n",
    "    {\n",
    "        Console.WriteLine($\"Название книги - {Title}, автор книги - {Author}, год публикации - {YearOfPublication}\");\n",
    "    }\n",
    "    public virtual void Read()\n",
    "    {\n",
    "        if (!isReading)\n",
    "        {\n",
    "            Console.WriteLine($\"Книга {Title} еще не прочитана\");\n",
    "        }\n",
    "        else\n",
    "        {\n",
    "            Console.WriteLine($\"Книга {Title} уже прочитана\");\n",
    "        }\n",
    "    }\n",
    "    public virtual void Borrow()\n",
    "    {\n",
    "        if (isBorrow)\n",
    "        {\n",
    "            Console.WriteLine($\"Книга {Title} есть в наличии\");\n",
    "        }\n",
    "        else\n",
    "        {\n",
    "            Console.WriteLine($\"Книга {Title} взята на чтение\");\n",
    "        }\n",
    "    }\n",
    "}\n",
    "public class Textbook : Book\n",
    "{\n",
    "    private string Subject {get;set;}\n",
    "\n",
    "    public Textbook(string _title,string _author,int _yearOfPublication,bool _isReading,bool _isBorrow, string _subject) : base(_title,_author,_yearOfPublication,_isReading,_isBorrow)\n",
    "    {\n",
    "        Subject = _subject;\n",
    "    }\n",
    "    public override void Read()\n",
    "    {\n",
    "        if (isReading)\n",
    "        {\n",
    "            Console.WriteLine($\"Книга {Title} еще не известно по какому предмету\");\n",
    "        }\n",
    "        else if (!isReading)\n",
    "        {\n",
    "            Console.WriteLine($\"Книга {Title} по предмету {Subject}\");\n",
    "        }\n",
    "    }\n",
    "}\n",
    "public class Fiction : Book\n",
    "{\n",
    "    private string Genre {get;set;}\n",
    "    public Fiction(string _title,string _author,int _yearOfPublication,bool _isReading,bool _isBorrow, string _genre) : base (_title,_author,_yearOfPublication,_isReading,_isBorrow)\n",
    "    {\n",
    "        Genre = _genre;\n",
    "    }\n",
    "    public override void Borrow()\n",
    "    {\n",
    "        if (isBorrow)\n",
    "        {\n",
    "            Console.WriteLine($\"Книга {Title} в жанре {Genre} есть в наличии\");\n",
    "        }\n",
    "        else\n",
    "        {\n",
    "            Console.WriteLine($\"Книга {Title} в жанре {Genre} взята на чтение\");\n",
    "        }\n",
    "    }\n",
    "}\n",
    "public class ScientificLiterature : Book\n",
    "{\n",
    "    private string FieldOfSciense {get;set;}\n",
    "    public ScientificLiterature(string _title,string _author,int _yearOfPublication,bool _isReading,bool _isBorrow, string _fieldofscience) : base(_title,_author,_yearOfPublication,_isReading,_isBorrow)\n",
    "    {\n",
    "        FieldOfSciense = _fieldofscience;\n",
    "    }\n",
    "    public override void GetInfo()\n",
    "    {\n",
    "        Console.WriteLine($\"Название книги - {Title}, автор книги - {Author}, год публикации - {YearOfPublication}, область науки - {FieldOfSciense}\");\n",
    "    }\n",
    "}\n",
    "Book myBook = new Book(\"Гарри Поттер\", \"Джоан Роулинг\", 1999, false, true);\n",
    "myBook.GetInfo();\n",
    "myBook.Read();\n",
    "myBook.Borrow();\n",
    "Console.WriteLine(\"\\n\");\n",
    "Textbook math = new Textbook(\"Математика 6 класс\",\"Ященко\", 2024, false, true, \"Математика\");\n",
    "math.GetInfo();\n",
    "math.Read();\n",
    "math.Borrow();\n",
    "Console.WriteLine(\"\\n\");\n",
    "Fiction dracula = new Fiction(\"Дракула\",\"Брэм Стокер\",1897,false,true,\"Ужасы\");\n",
    "dracula.GetInfo();\n",
    "dracula.Read();\n",
    "dracula.Borrow();\n",
    "Console.WriteLine(\"\\n\");\n",
    "ScientificLiterature physics = new ScientificLiterature(\"Теория всего\",\"Стивен Хокинг\",2002,false,true,\"Физика\");\n",
    "physics.GetInfo();\n",
    "physics.Read();\n",
    "physics.Borrow();"
   ]
  }
 ],
 "metadata": {
  "kernelspec": {
   "display_name": ".NET (C#)",
   "language": "C#",
   "name": ".net-csharp"
  },
  "polyglot_notebook": {
   "kernelInfo": {
    "defaultKernelName": "csharp",
    "items": [
     {
      "aliases": [],
      "languageName": "csharp",
      "name": "csharp"
     }
    ]
   }
  }
 },
 "nbformat": 4,
 "nbformat_minor": 2
}
